{
 "nbformat": 4,
 "nbformat_minor": 2,
 "metadata": {
  "language_info": {
   "name": "python",
   "codemirror_mode": {
    "name": "ipython",
    "version": 3
   },
   "version": "3.7.7-final"
  },
  "orig_nbformat": 2,
  "file_extension": ".py",
  "mimetype": "text/x-python",
  "name": "python",
  "npconvert_exporter": "python",
  "pygments_lexer": "ipython3",
  "version": 3,
  "kernelspec": {
   "name": "python3",
   "display_name": "Python 3"
  }
 },
 "cells": [
  {
   "cell_type": "code",
   "execution_count": null,
   "metadata": {},
   "outputs": [],
   "source": [
    "import json\n",
    "import pandas as pd\n",
    "import numpy as np\n",
    "from joblib import dump\n",
    "import requests\n",
    "\n",
    "from sqlalchemy import create_engine\n",
    "from sklearn.ensemble import RandomForestClassifier\n",
    "from sklearn.model_selection import cross_val_score\n",
    "from sklearn import preprocessing"
   ]
  },
  {
   "cell_type": "markdown",
   "metadata": {},
   "source": [
    "## Build Model and Serialize (use pick to save to disk)\n",
    "Note: in real life you'd also have some feature engineering/preprocessing functions that you'd use for both training the model and predicting inside the Rest API You'd also need to serialize any sklearn preprocessing objects."
   ],
   "execution_count": null,
   "outputs": []
  },
  {
   "cell_type": "code",
   "execution_count": null,
   "metadata": {},
   "outputs": [],
   "source": [
    "# load dataset from db\n",
    "db = create_engine('sqlite:///data/data.sqlite')\n",
    "df = pd.read_sql_table('iris', db)\n",
    "\n",
    "# create feature and target dfs\n",
    "features = [\n",
    "    'sepal_length',\n",
    "    'sepal_width',\n",
    "    'petal_length',\n",
    "    'petal_width'\n",
    "]\n",
    "target = 'species'\n",
    "\n",
    "X = df[features]\n",
    "y = df[target]\n",
    "\n",
    "# fit model\n",
    "rfc = RandomForestClassifier(random_state=42)\n",
    "rfc.fit(X, y)\n",
    "\n",
    "# serialize\n",
    "dump(rfc, 'iris_rfc.joblib')"
   ]
  },
  {
   "cell_type": "markdown",
   "metadata": {},
   "source": [
    "## Test Model using Rest API\n",
    "Note: get the api running first with: `uvicorn dope_model_api:app --host 127.0.0.1 --port 8000 --reload `"
   ],
   "execution_count": null,
   "outputs": []
  },
  {
   "cell_type": "code",
   "execution_count": null,
   "metadata": {},
   "outputs": [],
   "source": [
    "df = pd.DataFrame({'sepal_length': [0, 1], 'sepal_width': [1, 2], 'petal_length': [2, 3], 'petal_width': [3, 4]})\n",
    "body = {'data': df.to_dict(orient='records')}\n",
    "\n",
    "r = requests.post('http://localhost:8000/predict/', data=json.dumps(body))\n",
    "print(r.json())"
   ]
  }
 ]
}