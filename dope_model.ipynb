{
 "nbformat": 4,
 "nbformat_minor": 2,
 "metadata": {
  "language_info": {
   "name": "python",
   "codemirror_mode": {
    "name": "ipython",
    "version": 3
   },
   "version": "3.7.3-final"
  },
  "orig_nbformat": 2,
  "file_extension": ".py",
  "mimetype": "text/x-python",
  "name": "python",
  "npconvert_exporter": "python",
  "pygments_lexer": "ipython3",
  "version": 3,
  "kernelspec": {
   "name": "python3",
   "display_name": "Python 3"
  }
 },
 "cells": [
  {
   "cell_type": "code",
   "execution_count": null,
   "metadata": {},
   "outputs": [],
   "source": [
    "import pandas as pd\n",
    "import numpy as np\n",
    "from joblib import dump\n",
    "\n",
    "from sqlalchemy import create_engine\n",
    "from sklearn.ensemble import RandomForestClassifier\n",
    "from sklearn.model_selection import cross_val_score\n",
    "from sklearn import preprocessing\n",
    "\n",
    "db = create_engine('sqlite:///data/data.sqlite')"
   ]
  },
  {
   "cell_type": "code",
   "execution_count": null,
   "metadata": {},
   "outputs": [],
   "source": [
    "df = pd.read_sql_table('iris', db)\n",
    "\n",
    "features = [\n",
    "    'sepal_length',\n",
    "    'sepal_width',\n",
    "    'petal_length',\n",
    "    'petal_width'\n",
    "]\n",
    "target = 'species'\n",
    "\n",
    "X = df[features]\n",
    "y = df[target]\n",
    "\n",
    "# le = preprocessing.LabelEncoder()\n",
    "# y = le.fit_transform(df[target])\n",
    "# y = df[target].factorize()[0]"
   ]
  },
  {
   "cell_type": "code",
   "execution_count": null,
   "metadata": {},
   "outputs": [],
   "source": [
    "# rfc = RandomForestClassifier(random_state=42)\n",
    "# scores = cross_val_score(rfc, X, y, cv=10)\n",
    "# np.mean(scores)\n",
    "# rfc.predict(pd.DataFrame({'a': [0, 1], 'b': [1, 2], 'c': [2, 3], 'd': [3, 4]}))\n",
    "\n",
    "rfc = RandomForestClassifier(random_state=42)\n",
    "rfc.fit(X, y)"
   ]
  },
  {
   "cell_type": "code",
   "execution_count": null,
   "metadata": {},
   "outputs": [],
   "source": [
    "dump(rfc, 'iris_rfc.joblib')\n",
    "# dump(le, 'iris_le.joblib')"
   ]
  }
 ]
}