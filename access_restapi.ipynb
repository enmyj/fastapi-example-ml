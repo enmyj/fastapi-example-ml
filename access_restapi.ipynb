{
 "nbformat": 4,
 "nbformat_minor": 2,
 "metadata": {
  "language_info": {
   "name": "python",
   "codemirror_mode": {
    "name": "ipython",
    "version": 3
   },
   "version": "3.7.3-final"
  },
  "orig_nbformat": 2,
  "file_extension": ".py",
  "mimetype": "text/x-python",
  "name": "python",
  "npconvert_exporter": "python",
  "pygments_lexer": "ipython3",
  "version": 3,
  "kernelspec": {
   "name": "python3",
   "display_name": "Python 3"
  }
 },
 "cells": [
  {
   "cell_type": "code",
   "execution_count": null,
   "metadata": {},
   "outputs": [],
   "source": [
    "import requests\n",
    "import pandas as pd"
   ]
  },
  {
   "cell_type": "code",
   "execution_count": null,
   "metadata": {},
   "outputs": [],
   "source": [
    "r = requests.get('http://www.omdbapi.com/?apikey=9542f4e1&t=the shawshank redemption&r=json&type=movie')\n",
    "\n",
    "# check the status: 2xx Success, 3xx Redirection, 4xx Client Error, 5xx Server Error\n",
    "print(f'status code: {r.status_code} \\n')\n",
    "\n",
    "# view the raw response text\n",
    "print(f'text: {r.text} \\n')\n",
    "\n",
    "# decode the JSON response body into a dictionary\n",
    "print(f'json: {r.json()}\\n')\n",
    "\n",
    "# extracting the year from the dictionary\n",
    "print(f\"year: {r.json()['Year']}\")"
   ]
  },
  {
   "cell_type": "code",
   "execution_count": null,
   "metadata": {},
   "outputs": [],
   "source": [
    "df = pd.DataFrame([r.json()])\n",
    "df.head()"
   ]
  },
  {
   "cell_type": "code",
   "execution_count": null,
   "metadata": {},
   "outputs": [],
   "source": [
    "# what happens if the movie name is not recognized?\n",
    "r = requests.get('http://www.omdbapi.com/?apikey=9542f4e1&t=blahblahblah&r=json&type=movie')\n",
    "print(r.status_code)\n",
    "print(r.json())"
   ]
  }
 ]
}