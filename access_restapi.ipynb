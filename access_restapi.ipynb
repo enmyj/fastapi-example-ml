{
 "nbformat": 4,
 "nbformat_minor": 2,
 "metadata": {
  "language_info": {
   "name": "python",
   "codemirror_mode": {
    "name": "ipython",
    "version": 3
   },
   "version": "3.7.3-final"
  },
  "orig_nbformat": 2,
  "file_extension": ".py",
  "mimetype": "text/x-python",
  "name": "python",
  "npconvert_exporter": "python",
  "pygments_lexer": "ipython3",
  "version": 3,
  "kernelspec": {
   "name": "python3",
   "display_name": "Python 3"
  }
 },
 "cells": [
  {
   "cell_type": "markdown",
   "metadata": {},
   "source": [
    "## Hitting Rest API\n",
    "\n",
    "Most people use the `requests` [package](https://github.com/psf/requests)"
   ],
   "execution_count": null,
   "outputs": []
  },
  {
   "cell_type": "markdown",
   "metadata": {},
   "source": [
    "## How do I keep API Keys out of version control? \n",
    "\n",
    "Use the `keyring` package:\n",
    "\n",
    "from command line:\n",
    "```\n",
    "keyring set <name_of_key> <username>\n",
    "```\n",
    "\n",
    "from python\n",
    "```\n",
    "import keyring\n",
    "\n",
    "api_url = (\n",
    "    'https://something.com/something/'\n",
    "    f'?key={keyring.get_password('TESTAPI', 'imyjer')}'\n",
    ")\n",
    "```"
   ],
   "execution_count": null,
   "outputs": []
  },
  {
   "cell_type": "code",
   "execution_count": 1,
   "metadata": {},
   "outputs": [],
   "source": [
    "import requests\n",
    "import pandas as pd\n",
    "import keyring"
   ]
  },
  {
   "cell_type": "markdown",
   "metadata": {},
   "source": [
    "## OMDB Movie Database"
   ],
   "execution_count": null,
   "outputs": []
  },
  {
   "cell_type": "code",
   "execution_count": 2,
   "metadata": {},
   "outputs": [
    {
     "output_type": "stream",
     "name": "stdout",
     "text": "status code: 200 \n\ntext: {\"Title\":\"Hot Rod\",\"Year\":\"2007\",\"Rated\":\"PG-13\",\"Released\":\"03 Aug 2007\",\"Runtime\":\"88 min\",\"Genre\":\"Comedy, Sport\",\"Director\":\"Akiva Schaffer\",\"Writer\":\"Pam Brady\",\"Actors\":\"Andy Samberg, Jorma Taccone, Bill Hader, Danny McBride\",\"Plot\":\"Self-proclaimed stuntman Rod Kimble is preparing for the jump of his life - to clear fifteen buses to raise money for his abusive stepfather Frank's life-saving heart operation.\",\"Language\":\"English\",\"Country\":\"USA\",\"Awards\":\"1 win & 1 nomination.\",\"Poster\":\"https://m.media-amazon.com/images/M/MV5BNjYwNjA3OTY0Nl5BMl5BanBnXkFtZTcwNDMyNDUzMw@@._V1_SX300.jpg\",\"Ratings\":[{\"Source\":\"Internet Movie Database\",\"Value\":\"6.7/10\"},{\"Source\":\"Rotten Tomatoes\",\"Value\":\"39%\"},{\"Source\":\"Metacritic\",\"Value\":\"43/100\"}],\"Metascore\":\"43\",\"imdbRating\":\"6.7\",\"imdbVotes\":\"73,146\",\"imdbID\":\"tt0787475\",\"Type\":\"movie\",\"DVD\":\"27 Nov 2007\",\"BoxOffice\":\"$13,900,000\",\"Production\":\"Paramount Pictures\",\"Website\":\"N/A\",\"Response\":\"True\"} \n\njson: {'Title': 'Hot Rod', 'Year': '2007', 'Rated': 'PG-13', 'Released': '03 Aug 2007', 'Runtime': '88 min', 'Genre': 'Comedy, Sport', 'Director': 'Akiva Schaffer', 'Writer': 'Pam Brady', 'Actors': 'Andy Samberg, Jorma Taccone, Bill Hader, Danny McBride', 'Plot': \"Self-proclaimed stuntman Rod Kimble is preparing for the jump of his life - to clear fifteen buses to raise money for his abusive stepfather Frank's life-saving heart operation.\", 'Language': 'English', 'Country': 'USA', 'Awards': '1 win & 1 nomination.', 'Poster': 'https://m.media-amazon.com/images/M/MV5BNjYwNjA3OTY0Nl5BMl5BanBnXkFtZTcwNDMyNDUzMw@@._V1_SX300.jpg', 'Ratings': [{'Source': 'Internet Movie Database', 'Value': '6.7/10'}, {'Source': 'Rotten Tomatoes', 'Value': '39%'}, {'Source': 'Metacritic', 'Value': '43/100'}], 'Metascore': '43', 'imdbRating': '6.7', 'imdbVotes': '73,146', 'imdbID': 'tt0787475', 'Type': 'movie', 'DVD': '27 Nov 2007', 'BoxOffice': '$13,900,000', 'Production': 'Paramount Pictures', 'Website': 'N/A', 'Response': 'True'}\n\nyear: 2007\n"
    }
   ],
   "source": [
    "# these fields determined by looking at API Spec!\n",
    "payload = {\n",
    "    'apikey': 'XXXXXXXX', #  don't do this IRL!!\n",
    "    'apikey': f'{keyring.get('omdbapi', 'imyjer')}',  # do this IRL!!\n",
    "    't': ['Hot Rod'],\n",
    "    'r': 'json',\n",
    "    'type': 'movie'\n",
    "}\n",
    "base_url = 'http://www.omdbapi.com/'\n",
    "\n",
    "# make GET request\n",
    "r = requests.get(base_url, params=payload)\n",
    "\n",
    "# check the status: 2xx Success, 3xx Redirection, 4xx Client Error, 5xx Server Error\n",
    "print(f'status code: {r.status_code} \\n')\n",
    "\n",
    "# view the raw response text\n",
    "print(f'text: {r.text} \\n')\n",
    "\n",
    "# decode the JSON response body into a dictionary\n",
    "print(f'json: {r.json()}\\n')\n",
    "\n",
    "# extracting the year from the dictionary\n",
    "print(f\"year: {r.json()['Year']}\")"
   ]
  },
  {
   "cell_type": "code",
   "execution_count": 3,
   "metadata": {},
   "outputs": [
    {
     "output_type": "execute_result",
     "data": {
      "text/plain": "     Title  Year  Rated     Released Runtime          Genre        Director  \\\n0  Hot Rod  2007  PG-13  03 Aug 2007  88 min  Comedy, Sport  Akiva Schaffer   \n\n      Writer                                             Actors  \\\n0  Pam Brady  Andy Samberg, Jorma Taccone, Bill Hader, Danny...   \n\n                                                Plot  ... Metascore  \\\n0  Self-proclaimed stuntman Rod Kimble is prepari...  ...        43   \n\n  imdbRating imdbVotes     imdbID   Type          DVD    BoxOffice  \\\n0        6.7    73,146  tt0787475  movie  27 Nov 2007  $13,900,000   \n\n           Production Website Response  \n0  Paramount Pictures     N/A     True  \n\n[1 rows x 25 columns]",
      "text/html": "<div>\n<style scoped>\n    .dataframe tbody tr th:only-of-type {\n        vertical-align: middle;\n    }\n\n    .dataframe tbody tr th {\n        vertical-align: top;\n    }\n\n    .dataframe thead th {\n        text-align: right;\n    }\n</style>\n<table border=\"1\" class=\"dataframe\">\n  <thead>\n    <tr style=\"text-align: right;\">\n      <th></th>\n      <th>Title</th>\n      <th>Year</th>\n      <th>Rated</th>\n      <th>Released</th>\n      <th>Runtime</th>\n      <th>Genre</th>\n      <th>Director</th>\n      <th>Writer</th>\n      <th>Actors</th>\n      <th>Plot</th>\n      <th>...</th>\n      <th>Metascore</th>\n      <th>imdbRating</th>\n      <th>imdbVotes</th>\n      <th>imdbID</th>\n      <th>Type</th>\n      <th>DVD</th>\n      <th>BoxOffice</th>\n      <th>Production</th>\n      <th>Website</th>\n      <th>Response</th>\n    </tr>\n  </thead>\n  <tbody>\n    <tr>\n      <td>0</td>\n      <td>Hot Rod</td>\n      <td>2007</td>\n      <td>PG-13</td>\n      <td>03 Aug 2007</td>\n      <td>88 min</td>\n      <td>Comedy, Sport</td>\n      <td>Akiva Schaffer</td>\n      <td>Pam Brady</td>\n      <td>Andy Samberg, Jorma Taccone, Bill Hader, Danny...</td>\n      <td>Self-proclaimed stuntman Rod Kimble is prepari...</td>\n      <td>...</td>\n      <td>43</td>\n      <td>6.7</td>\n      <td>73,146</td>\n      <td>tt0787475</td>\n      <td>movie</td>\n      <td>27 Nov 2007</td>\n      <td>$13,900,000</td>\n      <td>Paramount Pictures</td>\n      <td>N/A</td>\n      <td>True</td>\n    </tr>\n  </tbody>\n</table>\n<p>1 rows × 25 columns</p>\n</div>"
     },
     "metadata": {},
     "execution_count": 3
    }
   ],
   "source": [
    "df = pd.DataFrame([r.json()])  # LOL pandas\n",
    "df.head()"
   ]
  },
  {
   "cell_type": "code",
   "execution_count": 4,
   "metadata": {},
   "outputs": [
    {
     "output_type": "stream",
     "name": "stdout",
     "text": "200\n{'Response': 'False', 'Error': 'Movie not found!'}\n"
    }
   ],
   "source": [
    "# what happens if the movie name is not recognized?\n",
    "r = requests.get('http://www.omdbapi.com/?apikey=9542f4e1&t=blahblahblah&r=json&type=movie')\n",
    "print(r.status_code)\n",
    "print(r.json())"
   ]
  },
  {
   "cell_type": "markdown",
   "metadata": {},
   "source": [
    "## Dark Sky API\n",
    "because we still can"
   ],
   "execution_count": null,
   "outputs": []
  },
  {
   "cell_type": "code",
   "execution_count": 5,
   "metadata": {},
   "outputs": [],
   "source": [
    "# forecast for Arlington\n",
    "payload = {\n",
    "    'exclude': 'currently,minutely,daily,alterts,flags',\n",
    "    'lang': 'en',\n",
    "    'units': 'si',\n",
    "    'extend': 'hourly'\n",
    "}\n",
    "base_url = f'https://api.darksky.net/forecast/{keyring.get_password(\"darksky\", \"username\")}/38.8816,77.0910'\n",
    "\n",
    "r = requests.get(base_url, params=payload)"
   ]
  },
  {
   "cell_type": "code",
   "execution_count": 6,
   "metadata": {},
   "outputs": [
    {
     "output_type": "execute_result",
     "data": {
      "text/plain": "           time        summary                 icon  precipIntensity  \\\n0    1585940400  Mostly Cloudy  partly-cloudy-night           0.0000   \n1    1585944000  Mostly Cloudy  partly-cloudy-night           0.0000   \n2    1585947600  Partly Cloudy  partly-cloudy-night           0.0000   \n3    1585951200  Partly Cloudy  partly-cloudy-night           0.0000   \n4    1585954800          Clear          clear-night           0.0000   \n..          ...            ...                  ...              ...   \n164  1586530800       Overcast               cloudy           0.0062   \n165  1586534400       Overcast               cloudy           0.0000   \n166  1586538000       Overcast               cloudy           0.0000   \n167  1586541600       Overcast               cloudy           0.0000   \n168  1586545200  Mostly Cloudy  partly-cloudy-night           0.0000   \n\n     precipProbability  temperature  apparentTemperature  dewPoint  humidity  \\\n0                 0.00         9.90                 8.67     -6.15      0.32   \n1                 0.00         8.86                 7.44     -4.86      0.38   \n2                 0.00         7.87                 6.41     -3.80      0.44   \n3                 0.00         6.57                 5.08     -2.75      0.51   \n4                 0.00         5.41                 3.75     -1.97      0.59   \n..                 ...          ...                  ...       ...       ...   \n164               0.01        17.07                17.07    -18.09      0.08   \n165               0.00        15.77                15.77    -18.05      0.08   \n166               0.00        14.83                14.83    -18.23      0.09   \n167               0.00        13.91                13.91    -17.91      0.09   \n168               0.00        12.79                12.79    -16.65      0.11   \n\n     pressure  windSpeed  windGust  windBearing  cloudCover  uvIndex  \\\n0      1022.3       2.55      4.02           11        0.69        0   \n1      1022.4       2.55      3.27            5        0.70        0   \n2      1022.5       2.36      2.85          358        0.57        0   \n3      1022.5       2.12      2.74          317        0.52        0   \n4      1022.6       2.10      2.84          323        0.30        0   \n..        ...        ...       ...          ...         ...      ...   \n164    1013.4       4.18      5.99            9        0.91        0   \n165    1014.0       4.20      5.85          340        0.95        0   \n166    1014.1       4.54      5.80          341        0.96        0   \n167    1014.1       4.69      5.58          340        0.94        0   \n168    1014.2       4.41      4.97          346        0.84        0   \n\n     visibility  ozone precipType  \n0        16.093  330.6        NaN  \n1        16.093  330.6        NaN  \n2        16.093  330.9        NaN  \n3        16.093  332.2        NaN  \n4        16.093  333.9        NaN  \n..          ...    ...        ...  \n164      16.093  338.5       rain  \n165      16.093  338.1        NaN  \n166      16.093  337.6        NaN  \n167      16.093  336.9        NaN  \n168      16.093  336.0        NaN  \n\n[169 rows x 18 columns]",
      "text/html": "<div>\n<style scoped>\n    .dataframe tbody tr th:only-of-type {\n        vertical-align: middle;\n    }\n\n    .dataframe tbody tr th {\n        vertical-align: top;\n    }\n\n    .dataframe thead th {\n        text-align: right;\n    }\n</style>\n<table border=\"1\" class=\"dataframe\">\n  <thead>\n    <tr style=\"text-align: right;\">\n      <th></th>\n      <th>time</th>\n      <th>summary</th>\n      <th>icon</th>\n      <th>precipIntensity</th>\n      <th>precipProbability</th>\n      <th>temperature</th>\n      <th>apparentTemperature</th>\n      <th>dewPoint</th>\n      <th>humidity</th>\n      <th>pressure</th>\n      <th>windSpeed</th>\n      <th>windGust</th>\n      <th>windBearing</th>\n      <th>cloudCover</th>\n      <th>uvIndex</th>\n      <th>visibility</th>\n      <th>ozone</th>\n      <th>precipType</th>\n    </tr>\n  </thead>\n  <tbody>\n    <tr>\n      <td>0</td>\n      <td>1585940400</td>\n      <td>Mostly Cloudy</td>\n      <td>partly-cloudy-night</td>\n      <td>0.0000</td>\n      <td>0.00</td>\n      <td>9.90</td>\n      <td>8.67</td>\n      <td>-6.15</td>\n      <td>0.32</td>\n      <td>1022.3</td>\n      <td>2.55</td>\n      <td>4.02</td>\n      <td>11</td>\n      <td>0.69</td>\n      <td>0</td>\n      <td>16.093</td>\n      <td>330.6</td>\n      <td>NaN</td>\n    </tr>\n    <tr>\n      <td>1</td>\n      <td>1585944000</td>\n      <td>Mostly Cloudy</td>\n      <td>partly-cloudy-night</td>\n      <td>0.0000</td>\n      <td>0.00</td>\n      <td>8.86</td>\n      <td>7.44</td>\n      <td>-4.86</td>\n      <td>0.38</td>\n      <td>1022.4</td>\n      <td>2.55</td>\n      <td>3.27</td>\n      <td>5</td>\n      <td>0.70</td>\n      <td>0</td>\n      <td>16.093</td>\n      <td>330.6</td>\n      <td>NaN</td>\n    </tr>\n    <tr>\n      <td>2</td>\n      <td>1585947600</td>\n      <td>Partly Cloudy</td>\n      <td>partly-cloudy-night</td>\n      <td>0.0000</td>\n      <td>0.00</td>\n      <td>7.87</td>\n      <td>6.41</td>\n      <td>-3.80</td>\n      <td>0.44</td>\n      <td>1022.5</td>\n      <td>2.36</td>\n      <td>2.85</td>\n      <td>358</td>\n      <td>0.57</td>\n      <td>0</td>\n      <td>16.093</td>\n      <td>330.9</td>\n      <td>NaN</td>\n    </tr>\n    <tr>\n      <td>3</td>\n      <td>1585951200</td>\n      <td>Partly Cloudy</td>\n      <td>partly-cloudy-night</td>\n      <td>0.0000</td>\n      <td>0.00</td>\n      <td>6.57</td>\n      <td>5.08</td>\n      <td>-2.75</td>\n      <td>0.51</td>\n      <td>1022.5</td>\n      <td>2.12</td>\n      <td>2.74</td>\n      <td>317</td>\n      <td>0.52</td>\n      <td>0</td>\n      <td>16.093</td>\n      <td>332.2</td>\n      <td>NaN</td>\n    </tr>\n    <tr>\n      <td>4</td>\n      <td>1585954800</td>\n      <td>Clear</td>\n      <td>clear-night</td>\n      <td>0.0000</td>\n      <td>0.00</td>\n      <td>5.41</td>\n      <td>3.75</td>\n      <td>-1.97</td>\n      <td>0.59</td>\n      <td>1022.6</td>\n      <td>2.10</td>\n      <td>2.84</td>\n      <td>323</td>\n      <td>0.30</td>\n      <td>0</td>\n      <td>16.093</td>\n      <td>333.9</td>\n      <td>NaN</td>\n    </tr>\n    <tr>\n      <td>...</td>\n      <td>...</td>\n      <td>...</td>\n      <td>...</td>\n      <td>...</td>\n      <td>...</td>\n      <td>...</td>\n      <td>...</td>\n      <td>...</td>\n      <td>...</td>\n      <td>...</td>\n      <td>...</td>\n      <td>...</td>\n      <td>...</td>\n      <td>...</td>\n      <td>...</td>\n      <td>...</td>\n      <td>...</td>\n      <td>...</td>\n    </tr>\n    <tr>\n      <td>164</td>\n      <td>1586530800</td>\n      <td>Overcast</td>\n      <td>cloudy</td>\n      <td>0.0062</td>\n      <td>0.01</td>\n      <td>17.07</td>\n      <td>17.07</td>\n      <td>-18.09</td>\n      <td>0.08</td>\n      <td>1013.4</td>\n      <td>4.18</td>\n      <td>5.99</td>\n      <td>9</td>\n      <td>0.91</td>\n      <td>0</td>\n      <td>16.093</td>\n      <td>338.5</td>\n      <td>rain</td>\n    </tr>\n    <tr>\n      <td>165</td>\n      <td>1586534400</td>\n      <td>Overcast</td>\n      <td>cloudy</td>\n      <td>0.0000</td>\n      <td>0.00</td>\n      <td>15.77</td>\n      <td>15.77</td>\n      <td>-18.05</td>\n      <td>0.08</td>\n      <td>1014.0</td>\n      <td>4.20</td>\n      <td>5.85</td>\n      <td>340</td>\n      <td>0.95</td>\n      <td>0</td>\n      <td>16.093</td>\n      <td>338.1</td>\n      <td>NaN</td>\n    </tr>\n    <tr>\n      <td>166</td>\n      <td>1586538000</td>\n      <td>Overcast</td>\n      <td>cloudy</td>\n      <td>0.0000</td>\n      <td>0.00</td>\n      <td>14.83</td>\n      <td>14.83</td>\n      <td>-18.23</td>\n      <td>0.09</td>\n      <td>1014.1</td>\n      <td>4.54</td>\n      <td>5.80</td>\n      <td>341</td>\n      <td>0.96</td>\n      <td>0</td>\n      <td>16.093</td>\n      <td>337.6</td>\n      <td>NaN</td>\n    </tr>\n    <tr>\n      <td>167</td>\n      <td>1586541600</td>\n      <td>Overcast</td>\n      <td>cloudy</td>\n      <td>0.0000</td>\n      <td>0.00</td>\n      <td>13.91</td>\n      <td>13.91</td>\n      <td>-17.91</td>\n      <td>0.09</td>\n      <td>1014.1</td>\n      <td>4.69</td>\n      <td>5.58</td>\n      <td>340</td>\n      <td>0.94</td>\n      <td>0</td>\n      <td>16.093</td>\n      <td>336.9</td>\n      <td>NaN</td>\n    </tr>\n    <tr>\n      <td>168</td>\n      <td>1586545200</td>\n      <td>Mostly Cloudy</td>\n      <td>partly-cloudy-night</td>\n      <td>0.0000</td>\n      <td>0.00</td>\n      <td>12.79</td>\n      <td>12.79</td>\n      <td>-16.65</td>\n      <td>0.11</td>\n      <td>1014.2</td>\n      <td>4.41</td>\n      <td>4.97</td>\n      <td>346</td>\n      <td>0.84</td>\n      <td>0</td>\n      <td>16.093</td>\n      <td>336.0</td>\n      <td>NaN</td>\n    </tr>\n  </tbody>\n</table>\n<p>169 rows × 18 columns</p>\n</div>"
     },
     "metadata": {},
     "execution_count": 6
    }
   ],
   "source": [
    "df = pd.DataFrame(r.json()['hourly']['data'])\n",
    "df"
   ]
  }
 ]
}